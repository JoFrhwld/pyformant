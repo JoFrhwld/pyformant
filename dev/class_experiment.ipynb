{
 "cells": [
  {
   "cell_type": "code",
   "execution_count": 1,
   "metadata": {},
   "outputs": [
    {
     "name": "stderr",
     "output_type": "stream",
     "text": [
      "OMP: Info #276: omp_set_nested routine deprecated, please use omp_set_max_active_levels instead.\n"
     ]
    }
   ],
   "source": [
    "from pyformant import formant\n",
    "import pandas as pd\n",
    "from matplotlib import pyplot as plt\n",
    "vowelfile = \"vowel.wav\""
   ]
  },
  {
   "cell_type": "code",
   "execution_count": 2,
   "metadata": {},
   "outputs": [],
   "source": [
    "test = formant.VowelLike(path=vowelfile, \n",
    "                         max_formant=5500,\n",
    "                         n_formants=5,\n",
    "                         window_len_s=0.05,\n",
    "                         step_size_s=0.01)"
   ]
  },
  {
   "cell_type": "code",
   "execution_count": 3,
   "metadata": {},
   "outputs": [
    {
     "data": {
      "text/plain": [
       "audio:\t- loaded from path vowel.wav\n",
       "\t- 3612 samples at 16000 sampling rate (0.226 seconds)\n",
       "\t- resampled to 11000 for max_formant 5500\n",
       "\t- preemphasis added from 50.00 Hz\n",
       "\t- split into 18 frames 0.05 s long with 0.01 s step size\n",
       "LPCs\t- LPC order 10 to get 5 formants\n",
       "\t- formant_floor set to 90.0\n",
       "\t- bandwidth_ceiling set to 400.0"
      ]
     },
     "execution_count": 3,
     "metadata": {},
     "output_type": "execute_result"
    }
   ],
   "source": [
    "test"
   ]
  },
  {
   "cell_type": "markdown",
   "metadata": {},
   "source": [
    "Getting just the numpy arrays"
   ]
  },
  {
   "cell_type": "code",
   "execution_count": 4,
   "metadata": {},
   "outputs": [],
   "source": [
    "formant_arr = test.formants_array\n",
    "bandwith_arr = test.bandwidths_array"
   ]
  },
  {
   "cell_type": "code",
   "execution_count": 5,
   "metadata": {},
   "outputs": [
    {
     "data": {
      "text/plain": [
       "(5, 18)"
      ]
     },
     "execution_count": 5,
     "metadata": {},
     "output_type": "execute_result"
    }
   ],
   "source": [
    "formant_arr.shape"
   ]
  },
  {
   "cell_type": "code",
   "execution_count": 6,
   "metadata": {},
   "outputs": [],
   "source": [
    "formant_df = test.formant_df"
   ]
  },
  {
   "cell_type": "code",
   "execution_count": 7,
   "metadata": {},
   "outputs": [
    {
     "data": {
      "text/plain": [
       "<AxesSubplot:xlabel='time_s'>"
      ]
     },
     "execution_count": 7,
     "metadata": {},
     "output_type": "execute_result"
    },
    {
     "data": {
      "image/png": "[encoded data removed]",
      "text/plain": [
       "<Figure size 432x288 with 1 Axes>"
      ]
     },
     "metadata": {
      "needs_background": "light"
     },
     "output_type": "display_data"
    }
   ],
   "source": [
    "formant_df.set_index(\"time_s\")[[\"F1\", \"F2\",\"F3\"]].plot()"
   ]
  },
  {
   "cell_type": "markdown",
   "metadata": {},
   "source": [
    "updating parameters will update"
   ]
  },
  {
   "cell_type": "code",
   "execution_count": 8,
   "metadata": {},
   "outputs": [
    {
     "data": {
      "text/plain": [
       "audio:\t- loaded from path vowel.wav\n",
       "\t- 3612 samples at 16000 sampling rate (0.226 seconds)\n",
       "\t- resampled to 11000 for max_formant 5500\n",
       "\t- preemphasis added from 50.00 Hz\n",
       "\t- split into 18 frames 0.05 s long with 0.01 s step size\n",
       "LPCs\t- LPC order 8 to get 4 formants\n",
       "\t- formant_floor set to 90.0\n",
       "\t- bandwidth_ceiling set to 400.0"
      ]
     },
     "execution_count": 8,
     "metadata": {},
     "output_type": "execute_result"
    }
   ],
   "source": [
    "test.n_formants = 4\n",
    "test"
   ]
  },
  {
   "cell_type": "code",
   "execution_count": 9,
   "metadata": {},
   "outputs": [],
   "source": [
    "formant_arr2 = test.formants_array"
   ]
  },
  {
   "cell_type": "code",
   "execution_count": 10,
   "metadata": {},
   "outputs": [
    {
     "data": {
      "text/plain": [
       "(4, 18)"
      ]
     },
     "execution_count": 10,
     "metadata": {},
     "output_type": "execute_result"
    }
   ],
   "source": [
    "formant_arr2.shape"
   ]
  },
  {
   "cell_type": "code",
   "execution_count": 11,
   "metadata": {},
   "outputs": [
    {
     "data": {
      "text/plain": [
       "audio:\t- loaded from path vowel.wav\n",
       "\t- 3612 samples at 16000 sampling rate (0.226 seconds)\n",
       "\t- resampled to 11000 for max_formant 5500\n",
       "\t- preemphasis added from 50.00 Hz\n",
       "\t- split into 176 frames 0.05 s long with 0.001 s step size\n",
       "LPCs\t- LPC order 8 to get 4 formants\n",
       "\t- formant_floor set to 90.0\n",
       "\t- bandwidth_ceiling set to 400.0"
      ]
     },
     "execution_count": 11,
     "metadata": {},
     "output_type": "execute_result"
    }
   ],
   "source": [
    "test.step_size_s = 0.001\n",
    "test"
   ]
  },
  {
   "cell_type": "code",
   "execution_count": 12,
   "metadata": {},
   "outputs": [],
   "source": [
    "formant_arr3 = test.formants_array"
   ]
  },
  {
   "cell_type": "code",
   "execution_count": 13,
   "metadata": {},
   "outputs": [
    {
     "data": {
      "text/plain": [
       "(4, 176)"
      ]
     },
     "execution_count": 13,
     "metadata": {},
     "output_type": "execute_result"
    }
   ],
   "source": [
    "formant_arr3.shape"
   ]
  }
 ],
 "metadata": {
  "kernelspec": {
   "display_name": "Python 3.9.13 ('pyformant')",
   "language": "python",
   "name": "python3"
  },
  "language_info": {
   "codemirror_mode": {
    "name": "ipython",
    "version": 3
   },
   "file_extension": ".py",
   "mimetype": "text/x-python",
   "name": "python",
   "nbconvert_exporter": "python",
   "pygments_lexer": "ipython3",
   "version": "3.9.13"
  },
  "orig_nbformat": 4,
  "vscode": {
   "interpreter": {
    "hash": "b98e714d86b2023ef69e1937014ab8301047f5084b11b11204ca363ce5133137"
   }
  }
 },
 "nbformat": 4,
 "nbformat_minor": 2
}
